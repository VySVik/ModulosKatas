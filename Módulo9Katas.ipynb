{
 "cells": [
  {
   "cell_type": "code",
   "execution_count": 37,
   "metadata": {},
   "outputs": [],
   "source": [
    "def GeneraReporte(t1,t2,t3):\n",
    "    suma=t1+t2+t3\n",
    "    return f'REPORTE DE COMBUSTIBLES:\\n TANQUE 1: {t1}\\n TANQUE 2: {t2}\\n TANQUE 3: {t3}\\n PROMEDIO: {suma/3}' "
   ]
  },
  {
   "cell_type": "code",
   "execution_count": 41,
   "metadata": {},
   "outputs": [
    {
     "name": "stdout",
     "output_type": "stream",
     "text": [
      "REPORTE DE COMBUSTIBLES:\n",
      " TANQUE 1: 7.1\n",
      " TANQUE 2: 21\n",
      " TANQUE 3: 11\n",
      " PROMEDIO: 13.033333333333333\n",
      "REPORTE DE COMBUSTIBLES:\n",
      " TANQUE 1: 2.22\n",
      " TANQUE 2: 34.1\n",
      " TANQUE 3: 98.2\n",
      " PROMEDIO: 44.84\n"
     ]
    }
   ],
   "source": [
    "suma=GeneraReporte(7.1,21,11)\n",
    "print(suma)\n",
    "print(GeneraReporte(2.22,34.1,98.2))"
   ]
  },
  {
   "cell_type": "code",
   "execution_count": 4,
   "metadata": {},
   "outputs": [
    {
     "name": "stdout",
     "output_type": "stream",
     "text": [
      "\n",
      "        Mision a moon\n",
      "        Tiempo total de vuelo: 34 minutos\n",
      "        Combustible disponible: 33 galones\n",
      "        \n"
     ]
    }
   ],
   "source": [
    "def informe_mision(hora_prelanzamiento, tiempo_vuelo, destino, tanque_externo, tanque_interno):\n",
    "    return f\"\"\"\n",
    "        Mision a {destino}\n",
    "        Tiempo total de vuelo: {hora_prelanzamiento + tiempo_vuelo} minutos\n",
    "        Combustible disponible: {tanque_externo + tanque_interno} galones\n",
    "        \"\"\"\n",
    "print(informe_mision(12,22,'moon',22,11))"
   ]
  },
  {
   "cell_type": "code",
   "execution_count": 61,
   "metadata": {},
   "outputs": [],
   "source": [
    "def informe_mision2(Destino, *Tanques_Combustible, **RutasKm):\n",
    "    i= 1 \n",
    "    info =''\n",
    "    print('Reporte del viaje con distino a: ' + Destino +  '. \\nTotal de Combustible disponible en tanques:')\n",
    "    \n",
    "    for x in Tanques_Combustible:\n",
    "        print(f\"tanque {i}: {x} Lts\")\n",
    "        i=+1\n",
    "    \n",
    "    info = 'Las rutas disponibles son:\\n'\n",
    "    for ruta, dist in RutasKm.items():\n",
    "        info += f\"{ruta} {dist} Km\\n\"\n",
    "\n",
    "    return info"
   ]
  },
  {
   "cell_type": "code",
   "execution_count": 62,
   "metadata": {},
   "outputs": [
    {
     "name": "stdout",
     "output_type": "stream",
     "text": [
      "Reporte del viaje con distino a: Marte. \n",
      "Total de Combustible disponible en tanques:\n",
      "tanque 1: 1 Lts\n",
      "tanque 1: 2 Lts\n",
      "tanque 1: 30 Lts\n",
      "tanque 1: 4 Lts\n",
      "Las rutas disponibles son:\n",
      "Ruta1 3.4 Km\n",
      "Ruta2 2.2 Km\n",
      "\n"
     ]
    }
   ],
   "source": [
    "print(informe_mision2('Marte', 1,2,30,4,Ruta1=3.4,Ruta2=2.2))"
   ]
  }
 ],
 "metadata": {
  "interpreter": {
   "hash": "7973c471efce84467b3ddb1d1afba26d1edf571361f26939b301a01b393cac73"
  },
  "kernelspec": {
   "display_name": "Python 3.8.7 64-bit",
   "language": "python",
   "name": "python3"
  },
  "language_info": {
   "codemirror_mode": {
    "name": "ipython",
    "version": 3
   },
   "file_extension": ".py",
   "mimetype": "text/x-python",
   "name": "python",
   "nbconvert_exporter": "python",
   "pygments_lexer": "ipython3",
   "version": "3.8.7"
  },
  "orig_nbformat": 4
 },
 "nbformat": 4,
 "nbformat_minor": 2
}
