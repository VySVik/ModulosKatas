{
 "cells": [
  {
   "cell_type": "code",
   "execution_count": 67,
   "metadata": {},
   "outputs": [],
   "source": [
    "planet = {\n",
    "    'nombre': 'Marte',\n",
    "    'lunas':2\n",
    "    }\n",
    "\n",
    "#planet['circunferencia'] = {'Polar':6752, 'equatorial':6792}\n"
   ]
  },
  {
   "cell_type": "code",
   "execution_count": 68,
   "metadata": {},
   "outputs": [
    {
     "name": "stdout",
     "output_type": "stream",
     "text": [
      "Marte has 2 moons\n"
     ]
    }
   ],
   "source": [
    "print(f'{planet[\"nombre\"]} has {planet[\"lunas\"]} moons')"
   ]
  },
  {
   "cell_type": "code",
   "execution_count": 74,
   "metadata": {},
   "outputs": [],
   "source": [
    "planet['circunferencia (Km)'] = {\n",
    "    'polar': 6752,\n",
    "    'equatorial': 6792\n",
    "}\n",
    "\n",
    "planet.update({'color': 'Rojo'})"
   ]
  },
  {
   "cell_type": "code",
   "execution_count": 76,
   "metadata": {},
   "outputs": [
    {
     "name": "stdout",
     "output_type": "stream",
     "text": [
      "nombre: Marte\n",
      "lunas: 2\n",
      "circunferencia (Km): {'polar': 6752, 'equatorial': 6792}\n",
      "color: Rojo\n"
     ]
    }
   ],
   "source": [
    "for key in planet:\n",
    "    print(f'{key}: {planet[key]}')"
   ]
  },
  {
   "cell_type": "code",
   "execution_count": 75,
   "metadata": {},
   "outputs": [
    {
     "name": "stdout",
     "output_type": "stream",
     "text": [
      "Marte tiene por circunferencia 6752 km y color Rojo\n"
     ]
    }
   ],
   "source": [
    "\n",
    "print(f'{planet[\"nombre\"]} tiene por circunferencia {planet[\"circunferencia (Km)\"][\"polar\"]} km y color {planet[\"color\"]}')"
   ]
  },
  {
   "cell_type": "markdown",
   "metadata": {},
   "source": [
    "Ejercicio 2: Programación dinámica con diccionarios"
   ]
  },
  {
   "cell_type": "code",
   "execution_count": 24,
   "metadata": {},
   "outputs": [
    {
     "name": "stdout",
     "output_type": "stream",
     "text": [
      "dict_values([0, 0, 1, 2, 79, 82, 27, 14, 5, 2, 1, 1])\n",
      "dict_keys(['mercury', 'venus', 'earth', 'mars', 'jupiter', 'saturn', 'uranus', 'neptune', 'pluto', 'haumea', 'makemake', 'eris'])\n",
      "Total lunas: 214\n",
      "Total planetas: 12\n",
      "Promedio: 17.833333333333332\n"
     ]
    }
   ],
   "source": [
    "moons =0\n",
    "TotalMoons=0\n",
    "planets=0\n",
    "planetas=''\n",
    "planet_moons = {\n",
    "    'mercury': 0,\n",
    "    'venus': 0,\n",
    "    'earth': 1,\n",
    "    'mars': 2,\n",
    "    'jupiter': 79,\n",
    "    'saturn': 82,\n",
    "    'uranus': 27,\n",
    "    'neptune': 14,\n",
    "    'pluto': 5,\n",
    "    'haumea': 2,\n",
    "    'makemake': 1,\n",
    "    'eris': 1\n",
    "}\n",
    "\n",
    "moons=planet_moons.values()\n",
    "print(moons)\n",
    "planetas = planet_moons.keys()\n",
    "print(planetas)\n",
    "\n",
    "for values in planet_moons:\n",
    "    TotalMoons+=planet_moons[values]\n",
    "    planets =len(planet_moons)\n",
    "\n",
    "\n",
    "\n",
    "\n",
    "print(f'Total lunas: {TotalMoons}')\n",
    "print(f'Total planetas: {planets}')\n",
    "print(f'Promedio: {TotalMoons/planets}')\n",
    "\n",
    "\n",
    "\n"
   ]
  }
 ],
 "metadata": {
  "interpreter": {
   "hash": "7973c471efce84467b3ddb1d1afba26d1edf571361f26939b301a01b393cac73"
  },
  "kernelspec": {
   "display_name": "Python 3.8.7 64-bit",
   "language": "python",
   "name": "python3"
  },
  "language_info": {
   "codemirror_mode": {
    "name": "ipython",
    "version": 3
   },
   "file_extension": ".py",
   "mimetype": "text/x-python",
   "name": "python",
   "nbconvert_exporter": "python",
   "pygments_lexer": "ipython3",
   "version": "3.8.7"
  },
  "orig_nbformat": 4
 },
 "nbformat": 4,
 "nbformat_minor": 2
}
