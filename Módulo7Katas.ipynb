{
 "cells": [
  {
   "cell_type": "markdown",
   "metadata": {},
   "source": [
    "Ejercicio 1: Creación de un bucle \"while\""
   ]
  },
  {
   "cell_type": "code",
   "execution_count": 133,
   "metadata": {},
   "outputs": [
    {
     "name": "stdout",
     "output_type": "stream",
     "text": [
      "marte Esta en la lista\n",
      "jupiter Esta en la lista\n",
      "urano Esta en la lista\n",
      "pluton Esta en la lista\n",
      "saturno Esta en la lista\n",
      "tierra Esta en la lista\n",
      "venus Esta en la lista\n"
     ]
    }
   ],
   "source": [
    "from time import sleep\n",
    "new_planets=[]\n",
    "NumberPlanets =8\n",
    "PlanetsList=['marte','tierra','saturno','pluton','neptuno','jupiter','urano', 'venus']\n",
    "planets=\"\"\n",
    "i=0\n",
    "\n",
    "while i< NumberPlanets: \n",
    "    planets = input('Enter a new planet')\n",
    "    new_planets.append(planets)\n",
    "    i=i+1\n",
    "\n",
    "\n",
    "for planet in new_planets:\n",
    "    for L in PlanetsList:\n",
    "        if planet == L:\n",
    "            print(planet + ' Esta en la lista')\n",
    "            break\n",
    "       \n",
    "       \n",
    "\n",
    "\n",
    "\n"
   ]
  },
  {
   "cell_type": "code",
   "execution_count": null,
   "metadata": {},
   "outputs": [],
   "source": []
  },
  {
   "cell_type": "code",
   "execution_count": 77,
   "metadata": {},
   "outputs": [],
   "source": []
  }
 ],
 "metadata": {
  "interpreter": {
   "hash": "7973c471efce84467b3ddb1d1afba26d1edf571361f26939b301a01b393cac73"
  },
  "kernelspec": {
   "display_name": "Python 3.8.7 64-bit",
   "language": "python",
   "name": "python3"
  },
  "language_info": {
   "codemirror_mode": {
    "name": "ipython",
    "version": 3
   },
   "file_extension": ".py",
   "mimetype": "text/x-python",
   "name": "python",
   "nbconvert_exporter": "python",
   "pygments_lexer": "ipython3",
   "version": "3.8.7"
  },
  "orig_nbformat": 4
 },
 "nbformat": 4,
 "nbformat_minor": 2
}
