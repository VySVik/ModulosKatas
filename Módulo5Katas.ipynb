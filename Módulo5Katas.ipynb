{
 "cells": [
  {
   "cell_type": "markdown",
   "metadata": {},
   "source": [
    "Modulo 5"
   ]
  },
  {
   "cell_type": "code",
   "execution_count": null,
   "metadata": {},
   "outputs": [],
   "source": []
  },
  {
   "cell_type": "code",
   "execution_count": 24,
   "metadata": {},
   "outputs": [],
   "source": [
    "Tierra = 149597870 \n",
    "Jupiter =778547200\n",
    "millas=0.621"
   ]
  },
  {
   "cell_type": "code",
   "execution_count": 25,
   "metadata": {},
   "outputs": [
    {
     "name": "stdout",
     "output_type": "stream",
     "text": [
      "distancia de Tierra a Jupiter, en Km 628949330.0\n",
      "distancia de Tierra a Jupiter, en millas 390577533.93\n"
     ]
    }
   ],
   "source": [
    "Distancia_P1aP2 = float(Tierra)-float(Jupiter)\n",
    "Dif_abs=abs(Distancia_P1aP2)\n",
    "print(\"distancia de Tierra a Jupiter, en Km \"+ str(Dif_abs))\n",
    "print(\"distancia de Tierra a Jupiter, en millas \"+ str(Dif_abs*millas))"
   ]
  },
  {
   "cell_type": "code",
   "execution_count": 39,
   "metadata": {},
   "outputs": [
    {
     "name": "stdout",
     "output_type": "stream",
     "text": [
      "distancia de Tierra al Sol: 111111 Kms\n",
      "distancia de Marte al Sol, en Km 222222 Kms\n",
      "distancia de Tierra a Marte 68999.931 Kms\n",
      "distancia de Tierra a Marte 68999.931 Mll\n"
     ]
    }
   ],
   "source": [
    "#Tierra\t149600000\n",
    "#Marte\t227900000\n",
    "\n",
    "Dis1=input(\"Indica la distancia de la Tierra al sol\")\n",
    "Dis2=input(\"Indica la distancia de la Marte al sol\")\n",
    "\n",
    "print(\"distancia de Tierra al Sol: \"+ Dis1 +\" Kms\")\n",
    "print(\"distancia de Marte al Sol, en Km \"+ Dis2 +\" Kms\")\n",
    "\n",
    "DifT_M=int(Dis1)-int(Dis2)\n",
    "Abs=abs(DifT_M)\n",
    "print(\"distancia de Tierra a Marte \"+ str(Abs*millas)+\" Kms\")\n",
    "print(\"distancia de Tierra a Marte \"+ str(Abs*millas)+\" Mll\")"
   ]
  }
 ],
 "metadata": {
  "interpreter": {
   "hash": "7973c471efce84467b3ddb1d1afba26d1edf571361f26939b301a01b393cac73"
  },
  "kernelspec": {
   "display_name": "Python 3.8.7 64-bit",
   "language": "python",
   "name": "python3"
  },
  "language_info": {
   "codemirror_mode": {
    "name": "ipython",
    "version": 3
   },
   "file_extension": ".py",
   "mimetype": "text/x-python",
   "name": "python",
   "nbconvert_exporter": "python",
   "pygments_lexer": "ipython3",
   "version": "3.8.7"
  },
  "orig_nbformat": 4
 },
 "nbformat": 4,
 "nbformat_minor": 2
}
