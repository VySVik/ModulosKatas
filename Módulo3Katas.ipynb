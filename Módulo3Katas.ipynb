{
 "cells": [
  {
   "cell_type": "code",
   "execution_count": 8,
   "metadata": {},
   "outputs": [
    {
     "name": "stdout",
     "output_type": "stream",
     "text": [
      "55\n"
     ]
    }
   ],
   "source": [
    "a = 9\n",
    "b = 55\n",
    "if a < b:\n",
    "    print(b)"
   ]
  },
  {
   "cell_type": "code",
   "execution_count": 12,
   "metadata": {},
   "outputs": [
    {
     "ename": "SyntaxError",
     "evalue": "invalid syntax (2862340069.py, line 3)",
     "output_type": "error",
     "traceback": [
      "\u001b[1;36m  Input \u001b[1;32mIn [12]\u001b[1;36m\u001b[0m\n\u001b[1;33m    if a <= 0\u001b[0m\n\u001b[1;37m             ^\u001b[0m\n\u001b[1;31mSyntaxError\u001b[0m\u001b[1;31m:\u001b[0m invalid syntax\n"
     ]
    }
   ],
   "source": [
    "a = 24\n",
    "b = 44\n",
    "if a <= 0:\n",
    "    print(a)\n",
    "print(b)"
   ]
  },
  {
   "cell_type": "code",
   "execution_count": null,
   "metadata": {},
   "outputs": [],
   "source": [
    "# si la velocidad es mayor a 25kmh alerta\n",
    "#if float(Velocidad_asteroide) >= Limite_min_Alarma:\n",
    "#    print(\"Alarma!! La velocidad del asteroide es de \" + str(Velocidad_asteroide) + \" Km/s\")\n",
    "#elif    float(Velocidad_asteroide)>=20 and float(Velocidad_asteroide) <25: # advertir avistamiento\n",
    "#    print(\"Asteroide detectado; mirar el rayo de luz en el cielo\")    \n",
    "#else: # velocidad menor a <20\n",
    "#    print(\"Asteroide detectado; alarma no necesaria\")"
   ]
  },
  {
   "cell_type": "code",
   "execution_count": 6,
   "metadata": {},
   "outputs": [
    {
     "name": "stdout",
     "output_type": "stream",
     "text": [
      "Asteroide detectado, Mire al cielo!!\n",
      "Velocidad: 24Km/h\n",
      "Tamaño: 14 metros\n"
     ]
    }
   ],
   "source": [
    "\n",
    "Velocidad_asteroide = 0\n",
    "Tamaño_asteroide = 0\n",
    "Tamaño_min = 20\n",
    "Tamaño_limite = 25\n",
    "vel_limite = 25\n",
    "Vel_min = 20\n",
    "Velocidad_asteroide = input(\"indica la velocidad del asteroide...\")\n",
    "Tamaño_asteroide = input(\"indica el tamaño del asteroide...\")\n",
    "\n",
    "# velocidad minima y tamaño minimo\n",
    "if float(Velocidad_asteroide) < Vel_min and  float(Tamaño_asteroide) < Tamaño_min:\n",
    "    print('¡Nada que ver aquí!')\n",
    "# Cualquier velocidad, el tamaño del asteroide es el mas grande    \n",
    "elif  float(Tamaño_asteroide) > Tamaño_limite:\n",
    "     print(\"Alarma!!.Un gran asteroide muy peligroso viene hacia la Tierra!\")\n",
    "# La velocidad es maxima y cualquier tamaño.\n",
    "elif float(Velocidad_asteroide) >= vel_limite:\n",
    "      print(\"Alarma!! Asteroide detectado. se acerca a velocidades peligrosas\")\n",
    "#Cvelocidad entre 20 y 25 y tamaño pequeño: Luz en el cielo\n",
    "elif float(Velocidad_asteroide) >= Vel_min and float(Velocidad_asteroide) < vel_limite and float(Tamaño_asteroide) < Tamaño_min:\n",
    "        print(\"Asteroide detectado, Mire al cielo!!\")\n",
    "# El tamaño del asteroide esta entre 24 a 1000mts, cualquier velocidad.    \n",
    "elif float(Tamaño_asteroide) >= Tamaño_min and float(Tamaño_asteroide) < Tamaño_limite:\n",
    "        print(\"Asteroide detectado, peligro inminente\")\n",
    "\n",
    "print(\"Velocidad: \" + str(Velocidad_asteroide +\"Km/h\"))\n",
    "print(\"Tamaño: \" + str(Tamaño_asteroide + \" metros\"))\n"
   ]
  },
  {
   "cell_type": "code",
   "execution_count": null,
   "metadata": {},
   "outputs": [],
   "source": [
    "#velocida\n",
    "# d\n",
    "#1.- v<20 no peligro\n",
    "#2.- v>= 20 y <25 luz en el cielo\n",
    "#3.- v>=25 peligro\n",
    "#tamaño\n",
    "#A. t<25 queman\n",
    "#B. t>=25 y <1000 peligro daño\n",
    "#C. t>1000 exincion\n",
    "#1A,1B,1C\n",
    "#2A,2B,2C\n",
    "#3A,3B,3C\n",
    "\n",
    "#SI V <20\n",
    "#   SI T < 25\n",
    "#       NINGUN PELIGRO\n",
    "#    SINO T>= 20 Y <25 \n",
    "#       DAÑO INMINENTE\n",
    "#    CONTRA\n",
    "#       PELIGRO DE EXTINCIÓN \n",
    "# SINO V >= 20 y <25 \n",
    "#    SI T < 25\n",
    "#       NINGUN PELIGRO, luz en el cielo\n",
    "#    SINO T>= 20 Y <25 \n",
    "#       DAÑO INMINENTE\n",
    "#    CONTRA\n",
    "#       PELIGRO DE EXTINCIÓN\n",
    "# DE LO CONTRARIO v>=25\n",
    "#    SI T < 25\n",
    "#       ALARMA DE ASTEROIDE MENOR DE 25MTS\n",
    "#    SINO T>= 20 Y <25 \n",
    "#      ALARMA DE ASTEROIDE; DAÑO INMINENTE\n",
    "#    CONTRA\n",
    "#      ALARMA DE ASTEROIDE; PELIGRO DE EXTINCIÓN"
   ]
  }
 ],
 "metadata": {
  "interpreter": {
   "hash": "7973c471efce84467b3ddb1d1afba26d1edf571361f26939b301a01b393cac73"
  },
  "kernelspec": {
   "display_name": "Python 3.8.7 64-bit",
   "language": "python",
   "name": "python3"
  },
  "language_info": {
   "codemirror_mode": {
    "name": "ipython",
    "version": 3
   },
   "file_extension": ".py",
   "mimetype": "text/x-python",
   "name": "python",
   "nbconvert_exporter": "python",
   "pygments_lexer": "ipython3",
   "version": "3.9.10"
  },
  "orig_nbformat": 4
 },
 "nbformat": 4,
 "nbformat_minor": 2
}
